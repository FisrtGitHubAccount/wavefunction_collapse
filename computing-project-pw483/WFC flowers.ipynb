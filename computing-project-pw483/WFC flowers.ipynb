{
 "cells": [
  {
   "cell_type": "code",
   "execution_count": 156,
   "metadata": {},
   "outputs": [],
   "source": [
    "import matplotlib.pyplot as plt\n",
    "import matplotlib\n",
    "import numpy as np\n",
    "import random\n",
    "import math\n",
    "from typing import List  #for the function annotation\n",
    "from Classes_and_Functions.classes import Pattern, Index   \n",
    "from Classes_and_Functions.functions import  get_overlapping_tiles, valid_dirs,initialize_wave_function, get_all_rotations2\n",
    "from Classes_and_Functions.functions import is_fully_collapsed, get_possible_patterns_at_position, post_collasping\n",
    "from Classes_and_Functions.funcs_colour import Is_element_in_dict, find_key, read_pattern_array,find_enclosed_positions"
   ]
  },
  {
   "attachments": {},
   "cell_type": "markdown",
   "metadata": {},
   "source": [
    "# Load sample and extract patterns"
   ]
  },
  {
   "cell_type": "code",
   "execution_count": 157,
   "metadata": {},
   "outputs": [],
   "source": [
    "# For more complicated patterns use plt.imread()\n",
    "# In the case of coloured image \n",
    "\n",
    "pixels = plt.imread('./assets/Flowers.png')[:,:,:3]   #RGB inputs\n",
    "\n",
    "input_size = tuple(pixels.shape[x] for x in range(2) )\n",
    "output_size = (15,15)           #fixed output\n",
    "N = 2 # size of the patterns that will be considered in the Wavefunction Collapse Algorithm"
   ]
  },
  {
   "cell_type": "code",
   "execution_count": 158,
   "metadata": {},
   "outputs": [
    {
     "name": "stdout",
     "output_type": "stream",
     "text": [
      "(24, 15, 3)\n",
      "[[[0.7490196  0.9098039  0.9490196 ]\n",
      "  [0.7490196  0.9098039  0.9490196 ]\n",
      "  [0.7490196  0.9098039  0.9490196 ]\n",
      "  ...\n",
      "  [0.7490196  0.9098039  0.9490196 ]\n",
      "  [0.7490196  0.9098039  0.9490196 ]\n",
      "  [0.7490196  0.9098039  0.9490196 ]]\n",
      "\n",
      " [[0.7490196  0.9098039  0.9490196 ]\n",
      "  [0.7490196  0.9098039  0.9490196 ]\n",
      "  [0.7490196  0.9098039  0.9490196 ]\n",
      "  ...\n",
      "  [0.7490196  0.9098039  0.9490196 ]\n",
      "  [0.7490196  0.9098039  0.9490196 ]\n",
      "  [0.7490196  0.9098039  0.9490196 ]]\n",
      "\n",
      " [[0.7490196  0.9098039  0.9490196 ]\n",
      "  [0.7490196  0.9098039  0.9490196 ]\n",
      "  [0.7490196  0.9098039  0.9490196 ]\n",
      "  ...\n",
      "  [0.7490196  0.9098039  0.9490196 ]\n",
      "  [1.         0.9490196  0.        ]\n",
      "  [0.7490196  0.9098039  0.9490196 ]]\n",
      "\n",
      " ...\n",
      "\n",
      " [[0.7490196  0.9098039  0.9490196 ]\n",
      "  [0.7490196  0.9098039  0.9490196 ]\n",
      "  [0.7490196  0.9098039  0.9490196 ]\n",
      "  ...\n",
      "  [0.7490196  0.9098039  0.9490196 ]\n",
      "  [0.7490196  0.9098039  0.9490196 ]\n",
      "  [0.7490196  0.9098039  0.9490196 ]]\n",
      "\n",
      " [[0.7254902  0.47843137 0.34117648]\n",
      "  [0.7254902  0.47843137 0.34117648]\n",
      "  [0.7254902  0.47843137 0.34117648]\n",
      "  ...\n",
      "  [0.7254902  0.47843137 0.34117648]\n",
      "  [0.7254902  0.47843137 0.34117648]\n",
      "  [0.7254902  0.47843137 0.34117648]]\n",
      "\n",
      " [[0.7254902  0.47843137 0.34117648]\n",
      "  [0.7254902  0.47843137 0.34117648]\n",
      "  [0.7254902  0.47843137 0.34117648]\n",
      "  ...\n",
      "  [0.7254902  0.47843137 0.34117648]\n",
      "  [0.7254902  0.47843137 0.34117648]\n",
      "  [0.7254902  0.47843137 0.34117648]]]\n"
     ]
    },
    {
     "data": {
      "image/png": "[encoded data removed]",
      "text/plain": [
       "<Figure size 640x480 with 1 Axes>"
      ]
     },
     "metadata": {},
     "output_type": "display_data"
    }
   ],
   "source": [
    "plt.imshow(pixels) # create plt\n",
    "print(pixels.shape)\n",
    "print(pixels)\n",
    "plt.show()"
   ]
  },
  {
   "attachments": {},
   "cell_type": "markdown",
   "metadata": {},
   "source": [
    "Since the input is in RBG where the pixels.shape() = (m,n,3), needed to map the unique colours for each tile (list of length 4) to hashable objects (in this case integers) so that the code in the following parts still work. Recall that previously we only dealt with Blak & White images which have pixels.shape() of (m,n,1).\n",
    "\n",
    "Function Is_element_in_dict() from funcs_colour.py was used.\n"
   ]
  },
  {
   "cell_type": "code",
   "execution_count": 159,
   "metadata": {},
   "outputs": [
    {
     "name": "stdout",
     "output_type": "stream",
     "text": [
      "{0: array([0.7490196, 0.9098039, 0.9490196], dtype=float32), 1: array([1.       , 0.9490196, 0.       ], dtype=float32), 2: array([0.       , 0.6666667, 0.       ], dtype=float32), 3: array([0.7254902 , 0.47843137, 0.34117648], dtype=float32)}\n",
      "4\n"
     ]
    }
   ],
   "source": [
    "colour = {} #create colour dictionary to map between a unique finite number to a unique list/int of colour pixel\n",
    "key = 0 # the key of the colour dictionary originally zero and will increase by 1 for each additional unique pattern\n",
    "\n",
    "\n",
    "\n",
    "for i in range(input_size[0]): # row \n",
    "    for j in pixels[i]: # column\n",
    "        if Is_element_in_dict(colour,j):  # j is a pixel element for each tile\n",
    "            continue    #avoid the repetitive mapping\n",
    "        colour[key] = j\n",
    "        key +=1\n",
    "         \n",
    "print(colour)\n",
    "print(key)    \n",
    "#The number of keys agree with the number that can be counted from eyes which is 4\n"
   ]
  },
  {
   "attachments": {},
   "cell_type": "markdown",
   "metadata": {},
   "source": [
    "However ,for this flower image, the colour greeen inside the flower should be distinguishable from the one using for its stem. So another key (integer 4) will be added to distinguish the green inside the flowers."
   ]
  },
  {
   "cell_type": "code",
   "execution_count": 160,
   "metadata": {},
   "outputs": [
    {
     "name": "stdout",
     "output_type": "stream",
     "text": [
      "{0: array([0.7490196, 0.9098039, 0.9490196], dtype=float32), 1: array([1.       , 0.9490196, 0.       ], dtype=float32), 2: array([0.       , 0.6666667, 0.       ], dtype=float32), 3: array([0.7254902 , 0.47843137, 0.34117648], dtype=float32), 4: array([0.       , 0.6666667, 0.       ], dtype=float32)}\n"
     ]
    }
   ],
   "source": [
    "colour[4] = colour[2]\n",
    "print(colour)\n",
    "#The key 4 is meant to be the green inside the flowers "
   ]
  },
  {
   "attachments": {},
   "cell_type": "markdown",
   "metadata": {},
   "source": [
    "Function find_key() from funcs_colour.py was used."
   ]
  },
  {
   "cell_type": "code",
   "execution_count": 161,
   "metadata": {},
   "outputs": [
    {
     "name": "stdout",
     "output_type": "stream",
     "text": [
      "[[0. 0. 0. 0. 0. 0. 0. 0. 0. 0. 0. 0. 0. 0. 0.]\n",
      " [0. 0. 0. 0. 0. 0. 0. 0. 0. 0. 0. 0. 0. 0. 0.]\n",
      " [0. 0. 0. 0. 0. 1. 0. 0. 0. 0. 0. 0. 0. 1. 0.]\n",
      " [0. 0. 0. 0. 1. 2. 1. 0. 0. 0. 0. 0. 1. 2. 1.]\n",
      " [0. 0. 0. 0. 0. 1. 0. 0. 0. 0. 0. 0. 0. 1. 0.]\n",
      " [0. 0. 0. 0. 0. 2. 0. 0. 0. 0. 0. 0. 0. 2. 0.]\n",
      " [0. 0. 0. 0. 0. 2. 2. 0. 0. 0. 0. 0. 2. 2. 0.]\n",
      " [0. 1. 0. 0. 0. 0. 2. 2. 0. 0. 0. 2. 2. 0. 0.]\n",
      " [1. 2. 1. 0. 0. 0. 0. 2. 0. 0. 0. 2. 0. 0. 0.]\n",
      " [0. 1. 0. 0. 0. 0. 2. 2. 0. 0. 0. 2. 2. 0. 0.]\n",
      " [0. 2. 0. 0. 0. 0. 2. 0. 0. 1. 0. 0. 2. 2. 0.]\n",
      " [0. 2. 2. 0. 0. 2. 2. 0. 1. 2. 1. 0. 0. 2. 0.]\n",
      " [0. 0. 2. 0. 2. 2. 0. 0. 0. 1. 0. 0. 0. 2. 0.]\n",
      " [0. 0. 2. 2. 2. 0. 0. 0. 0. 2. 0. 0. 2. 2. 0.]\n",
      " [0. 0. 0. 2. 0. 0. 0. 0. 0. 2. 0. 2. 2. 0. 0.]\n",
      " [0. 0. 0. 2. 2. 0. 0. 0. 0. 2. 2. 2. 0. 0. 0.]\n",
      " [0. 0. 0. 0. 2. 2. 0. 0. 0. 0. 2. 0. 0. 0. 0.]\n",
      " [0. 0. 0. 0. 0. 2. 2. 0. 0. 2. 2. 0. 0. 0. 0.]\n",
      " [0. 0. 0. 0. 0. 0. 2. 0. 2. 2. 0. 0. 0. 0. 0.]\n",
      " [0. 0. 0. 0. 0. 0. 2. 2. 2. 0. 0. 0. 0. 0. 0.]\n",
      " [0. 0. 0. 0. 0. 0. 0. 2. 0. 0. 0. 0. 0. 0. 0.]\n",
      " [0. 0. 0. 0. 0. 0. 0. 2. 0. 0. 0. 0. 0. 0. 0.]\n",
      " [3. 3. 3. 3. 3. 3. 3. 2. 3. 3. 3. 3. 3. 3. 3.]\n",
      " [3. 3. 3. 3. 3. 3. 3. 3. 3. 3. 3. 3. 3. 3. 3.]]\n"
     ]
    }
   ],
   "source": [
    "# Now map the pixel elements in pixels to the key\n",
    "\n",
    "pixels_copy = np.zeros(input_size)\n",
    "\n",
    "   \n",
    "\n",
    "for y in range(input_size[0]): # row \n",
    "    for x in range(input_size[1]): # column\n",
    "        #replace all the pixels (list of length 3) with the corresponding keys from the colour dictionary \n",
    "        pixels_copy[y][x] = find_key(colour,pixels[y][x]) \n",
    "\n",
    "\n",
    "print(pixels_copy)   #works as intended  \n",
    "#each unique integer is a key of a unique colour in the colour dictionary\n",
    "  "
   ]
  },
  {
   "cell_type": "code",
   "execution_count": 162,
   "metadata": {},
   "outputs": [
    {
     "name": "stdout",
     "output_type": "stream",
     "text": [
      "[[0. 0. 0. 0. 0. 0. 0. 0. 0. 0. 0. 0. 0. 0. 0.]\n",
      " [0. 0. 0. 0. 0. 0. 0. 0. 0. 0. 0. 0. 0. 0. 0.]\n",
      " [0. 0. 0. 0. 0. 1. 0. 0. 0. 0. 0. 0. 0. 1. 0.]\n",
      " [0. 0. 0. 0. 1. 4. 1. 0. 0. 0. 0. 0. 1. 4. 1.]\n",
      " [0. 0. 0. 0. 0. 1. 0. 0. 0. 0. 0. 0. 0. 1. 0.]\n",
      " [0. 0. 0. 0. 0. 2. 0. 0. 0. 0. 0. 0. 0. 2. 0.]\n",
      " [0. 0. 0. 0. 0. 2. 2. 0. 0. 0. 0. 0. 2. 2. 0.]\n",
      " [0. 1. 0. 0. 0. 0. 2. 2. 0. 0. 0. 2. 2. 0. 0.]\n",
      " [1. 4. 1. 0. 0. 0. 0. 2. 0. 0. 0. 2. 0. 0. 0.]\n",
      " [0. 1. 0. 0. 0. 0. 2. 2. 0. 0. 0. 2. 2. 0. 0.]\n",
      " [0. 2. 0. 0. 0. 0. 2. 0. 0. 1. 0. 0. 2. 2. 0.]\n",
      " [0. 2. 2. 0. 0. 2. 2. 0. 1. 4. 1. 0. 0. 2. 0.]\n",
      " [0. 0. 2. 0. 2. 2. 0. 0. 0. 1. 0. 0. 0. 2. 0.]\n",
      " [0. 0. 2. 2. 2. 0. 0. 0. 0. 2. 0. 0. 2. 2. 0.]\n",
      " [0. 0. 0. 2. 0. 0. 0. 0. 0. 2. 0. 2. 2. 0. 0.]\n",
      " [0. 0. 0. 2. 2. 0. 0. 0. 0. 2. 2. 2. 0. 0. 0.]\n",
      " [0. 0. 0. 0. 2. 2. 0. 0. 0. 0. 2. 0. 0. 0. 0.]\n",
      " [0. 0. 0. 0. 0. 2. 2. 0. 0. 2. 2. 0. 0. 0. 0.]\n",
      " [0. 0. 0. 0. 0. 0. 2. 0. 2. 2. 0. 0. 0. 0. 0.]\n",
      " [0. 0. 0. 0. 0. 0. 2. 2. 2. 0. 0. 0. 0. 0. 0.]\n",
      " [0. 0. 0. 0. 0. 0. 0. 2. 0. 0. 0. 0. 0. 0. 0.]\n",
      " [0. 0. 0. 0. 0. 0. 0. 2. 0. 0. 0. 0. 0. 0. 0.]\n",
      " [3. 3. 3. 3. 3. 3. 3. 2. 3. 3. 3. 3. 3. 3. 3.]\n",
      " [3. 3. 3. 3. 3. 3. 3. 3. 3. 3. 3. 3. 3. 3. 3.]]\n"
     ]
    }
   ],
   "source": [
    "#Replacing integer 2 with 4 for those at the positions_enclosed\n",
    "\n",
    "positions_enclosed = find_enclosed_positions(input_size,pixels_copy)\n",
    "#print(positions_enclosed)\n",
    "\n",
    "for a in positions_enclosed:\n",
    "    pixels_copy[a[0],a[1]] = 4\n",
    "    \n",
    "print(pixels_copy)"
   ]
  },
  {
   "attachments": {},
   "cell_type": "markdown",
   "metadata": {},
   "source": [
    " Reading all possible patterns of size NxN from the input image and record their rotated patterns as the results will be shown below.  \n",
    "\n",
    "Since the flower.png do not give reasonable result with rotations included, the get_all_rotations() function will not be used."
   ]
  },
  {
   "cell_type": "code",
   "execution_count": 163,
   "metadata": {},
   "outputs": [],
   "source": [
    "patterns = []\n",
    "weights = {} # dict pattern -> count occurence which will be used to calculate the probabilities\n",
    "probability = {} # dict pattern -> probability\n",
    "\n",
    "\n",
    "for y in range(input_size[0]-(N-1)): # row \n",
    "    for x in range(input_size[1]-(N-1)): # column\n",
    "        pattern = []\n",
    "        for k in pixels_copy[y:y+N]:\n",
    "            pattern.append([i for i in k[x:x+N]])         \n",
    "        pattern_rotations = get_all_rotations2(pattern)        # no longer include the patterns rotations\n",
    "        \n",
    "        for rotation in pattern_rotations:\n",
    "            if rotation not in weights:         #keys of dictionary can only be either string or int\n",
    "                weights[rotation] = 1\n",
    "            else:\n",
    "                weights[rotation] += 1   # weights = count of occurences of the same pattern after rotations\n",
    "        \n",
    "        patterns.extend(pattern_rotations)\n",
    "        \n",
    "# remove duplicates\n",
    "patterns_without_duplicates = []\n",
    "for patt in patterns:\n",
    "    if patt not in patterns_without_duplicates:\n",
    "        patterns_without_duplicates.append(patt)\n",
    "patterns = patterns_without_duplicates\n",
    "\n",
    "sum_of_weights = 0\n",
    "for weight in weights:\n",
    "    sum_of_weights += weights[weight]\n",
    "\n",
    "for pattern in patterns:\n",
    "    probability[pattern] = weights[pattern] / sum_of_weights  #probability of each subpattern over total patterns after rotation\n",
    "    \n",
    "# convert patterns from tuples into Pattern objects\n",
    "patterns = [Pattern(p) for p in patterns]               #from this point onwards the Class Pattern.pixel = pixel key\n",
    "weights = {pattern:weights[pattern.pixels] for pattern in patterns}\n",
    "probability = {pattern:probability[pattern.pixels] for pattern in patterns}\n"
   ]
  },
  {
   "attachments": {},
   "cell_type": "markdown",
   "metadata": {},
   "source": [
    "Since the patterns obtained from the input and key assignment come in arrays of NxN, we need a function to transform the encrypted array of patterns into the format which is readable by plt.imshow()"
   ]
  },
  {
   "attachments": {},
   "cell_type": "markdown",
   "metadata": {},
   "source": [
    "Function read_pattern_array() from funcs_colour.py was used."
   ]
  },
  {
   "cell_type": "code",
   "execution_count": 164,
   "metadata": {},
   "outputs": [
    {
     "data": {
      "image/png": "[encoded data removed]",
      "text/plain": [
       "<Figure size 1100x2200 with 27 Axes>"
      ]
     },
     "metadata": {},
     "output_type": "display_data"
    }
   ],
   "source": [
    "# show \n",
    "plt.figure(figsize=(11,22))\n",
    "for m in range(len(patterns)):\n",
    "    axs = plt.subplot( math.ceil(len(patterns)/4) , 4 , m+1)\n",
    "    axs.imshow(read_pattern_array(N,colour,patterns[m]))  \n",
    "    axs.set_xticks([])\n",
    "    axs.set_yticks([])\n",
    "    plt.title(\"weight: %.0f prob: %.2f\"%(weights[patterns[m]], probability[patterns[m]]))\n",
    "plt.show()"
   ]
  },
  {
   "cell_type": "markdown",
   "metadata": {},
   "source": [
    "## Create Index data structure describing rules for placing patterns"
   ]
  },
  {
   "cell_type": "code",
   "execution_count": 165,
   "metadata": {},
   "outputs": [],
   "source": [
    "UP = (0, -1)   # index of the pixel above relative to the pixel of interest\n",
    "LEFT = (-1, 0)\n",
    "DOWN = (0, 1)\n",
    "RIGHT = (1, 0)\n",
    "UP_LEFT = (-1, -1)\n",
    "UP_RIGHT = (1, -1)\n",
    "DOWN_LEFT = (-1, 1)\n",
    "DOWN_RIGHT = (1, 1)\n",
    "dirs = [UP, DOWN, LEFT, RIGHT, UP_LEFT, UP_RIGHT, DOWN_LEFT, DOWN_RIGHT]\n"
   ]
  },
  {
   "cell_type": "code",
   "execution_count": 166,
   "metadata": {},
   "outputs": [],
   "source": [
    "#Initialise the index class for determining the allowed adjacent patterns \n",
    "index = Index(patterns)"
   ]
  },
  {
   "cell_type": "code",
   "execution_count": 167,
   "metadata": {},
   "outputs": [],
   "source": [
    "# Generate rules for Index and save them\n",
    "# Function get_overlapping_tiles() from the functions file was used. \n",
    "\n",
    "rules_num = 0\n",
    "for pattern in patterns:\n",
    "    for d in dirs:\n",
    "        for pattern_next in patterns:\n",
    "            # here's checking all offsets \n",
    "            overlap = get_overlapping_tiles(pattern_next, d)\n",
    "            og_dir = tuple([d[0]*-1, d[1]*-1])   #original direction is the opposite \n",
    "            part_of_og_pattern = get_overlapping_tiles(pattern, og_dir)\n",
    "            if (overlap) == (part_of_og_pattern):\n",
    "                index.add_rule(pattern, d, pattern_next)\n",
    "                rules_num+=1"
   ]
  },
  {
   "cell_type": "code",
   "execution_count": 168,
   "metadata": {},
   "outputs": [
    {
     "name": "stdout",
     "output_type": "stream",
     "text": [
      "There are 1218 rules\n"
     ]
    },
    {
     "data": {
      "text/plain": [
       "\"\\nfor d in index.data:\\n    print(f'Pattern {d.pixels}')\\n    for pos in index.data[d]:\\n        print(f' Pos {pos}')\\n        for pattern in index.data[d][pos]:\\n            print(f' {pattern.pixels}')\\n\""
      ]
     },
     "execution_count": 168,
     "metadata": {},
     "output_type": "execute_result"
    }
   ],
   "source": [
    "# Show data in Index for sanity check \n",
    "print(f\"There are {rules_num} rules\")\n",
    "\"\"\"\n",
    "for d in index.data:\n",
    "    print(f'Pattern {d.pixels}')\n",
    "    for pos in index.data[d]:\n",
    "        print(f' Pos {pos}')\n",
    "        for pattern in index.data[d][pos]:\n",
    "            print(f' {pattern.pixels}')\n",
    "\"\"\"\n",
    "#put it in as comments for simplicity in editing (the result is very long)\n",
    "#The code works as intended so far"
   ]
  },
  {
   "cell_type": "markdown",
   "metadata": {},
   "source": [
    "## Define coefficients"
   ]
  },
  {
   "attachments": {},
   "cell_type": "markdown",
   "metadata": {},
   "source": [
    "At the beginning, all available patterns are possible at all positions and what algorithm has to do is to reduce their number to only one pattern at each possition.\n",
    "\n",
    "We start by defining matrix of tiles with corresponding possible patterns later called matrix of coefficients. In original implementation this holds boolean values denoting which pattern is still available. For simplicity we will use patterns themself to tell which are still possible in this position.\n",
    "\n",
    "Gumin’s algorithm does not implement local backtracking and\n",
    "instead globally restarts in the rare case a conflict is reached."
   ]
  },
  {
   "cell_type": "code",
   "execution_count": 169,
   "metadata": {},
   "outputs": [],
   "source": [
    "#initilize_wave_function\n",
    "\n",
    "coefficients = initialize_wave_function(output_size,patterns)  # will be updated to one pattern for each tile if the algorithn is fully complete "
   ]
  },
  {
   "attachments": {},
   "cell_type": "markdown",
   "metadata": {},
   "source": [
    "# Algorithm itself"
   ]
  },
  {
   "attachments": {},
   "cell_type": "markdown",
   "metadata": {},
   "source": [
    "## Definition of Shannon entropy "
   ]
  },
  {
   "attachments": {},
   "cell_type": "markdown",
   "metadata": {},
   "source": [
    "For this notebook, we are using the minimum remaining values heuristic. Therefore, the shannon entropy is introduced here. The bigger number of possible patterns for a tile, the bigger the \"uncertainty\" ,ie the entropy, is. Tile where only one pattern is possible has entropy equal to 0.\n",
    "\n",
    "For each iteration we need to start propagating our algorithm from the place with the lowest non zero entropy meaning level of “uncertainty” is the smallest."
   ]
  },
  {
   "attachments": {},
   "cell_type": "markdown",
   "metadata": {},
   "source": [
    "$$ \\huge H(X) = - \\sum^{n}_{i=1} p_i \\log_2 p_i $$"
   ]
  },
  {
   "cell_type": "code",
   "execution_count": 170,
   "metadata": {},
   "outputs": [],
   "source": [
    "def get_shannon_entropy(position):\n",
    "    \"\"\"\n",
    "    Calcualte the Shannon Entropy of the wavefunction at position (x, y)\n",
    "    Retunr None for the case that the tile has no possible patterns \n",
    "\n",
    "    \"\"\"\n",
    "    x, y = position\n",
    "    entropy = 0\n",
    "    \n",
    "    # A cell with one valid pattern has 0 entropy\n",
    "    if len(coefficients[x][y]) == 1:\n",
    "        return 0\n",
    "    \n",
    "    elif len(coefficients[x][y]) == 0:  #want to throw an error for this\n",
    "        return None\n",
    "    \n",
    "    for pattern in coefficients[x][y]:\n",
    "          #recall that probability is a dictionary of probabilities where the key is the corresponding pattern\n",
    "        entropy -= probability[pattern] * math.log(probability[pattern], 2) \n",
    "    \n",
    "    # Add noise to break ties and near-ties\n",
    "    entropy -= random.uniform(0, 0.1)\n",
    "    return entropy\n"
   ]
  },
  {
   "cell_type": "code",
   "execution_count": 171,
   "metadata": {},
   "outputs": [],
   "source": [
    "def get_min_entropy_pos():\n",
    "    \"\"\"\n",
    "    Return position of tile with the lowest non-zero entropy for non fullly collapsed wavefunctions\n",
    "    Return None for fully collapsed wavefunction\n",
    "    Return 0 for contradiction\n",
    "    \n",
    "    \"\"\"\n",
    "    minEntropy = None  #since zero is meaningful had to resort to None\n",
    "    minEntropyPos = None\n",
    "    \n",
    "    for x, col in enumerate(coefficients):    #x, y positions don't make sense but could be my brain is being daft\n",
    "        for y, row in enumerate(col):\n",
    "            entropy = get_shannon_entropy((x, y))\n",
    "            \n",
    "            if entropy == 0:\n",
    "                continue   # to skip the tiles with zero entropy\n",
    "\n",
    "            elif entropy == None:\n",
    "                return 0   #resort to zero as None is taken and zero is not going to be used anyway\n",
    "            \n",
    "            if minEntropy is None or entropy < minEntropy:\n",
    "                minEntropy = entropy\n",
    "                minEntropyPos = (x, y)\n",
    "    return minEntropyPos\n",
    "  "
   ]
  },
  {
   "attachments": {},
   "cell_type": "markdown",
   "metadata": {},
   "source": [
    "## Implement the minimum remaining value (MRV) heuristic "
   ]
  },
  {
   "attachments": {},
   "cell_type": "markdown",
   "metadata": {},
   "source": [
    "Since there usually is more than one valid pattern for the selected location, one of the patterns is chosen with a random sample, weighted by the frequency that pattern appears in the input image. This implements Gumin’s secondary goal for local similarity: that patterns\n",
    "appear with a similar distribution in the output as are found in the input."
   ]
  },
  {
   "cell_type": "code",
   "execution_count": 172,
   "metadata": {},
   "outputs": [],
   "source": [
    "def observe():\n",
    "    '''\n",
    "    This function will be used to observe the position with minimum entropy\n",
    "    ,and collapse the wavefunction at the position to one state based on the pattern with maximum probability.\n",
    "    Tie will be chosen randomly by the random.choice() function. \n",
    "    It returns the position of the pixel with minimum entropy // convenient for passing the function as the argument of the Propagator() function\n",
    "    Unless the wavefunction is fully collapsed-> print(\"All tiles have 0 entropy\")  \n",
    "    or contradiction was observed --> print(\"Contradiction was detetced. Rerun again sorry\")  \n",
    "    '''\n",
    "    \n",
    "    min_entropy_pos = get_min_entropy_pos()  # Find the position of the tile with lowest entropy\n",
    "    \n",
    "    if min_entropy_pos == None:             # min_entropy_pos == None satisfied when the wavefunction is fully collapsed.\n",
    "        print(\"All tiles have 0 entropy\")\n",
    "        return\n",
    "    \n",
    "    elif min_entropy_pos == 0:           # min_entropy_pos == 0 satisfied when a tile has no possible pattern (contradiction)\n",
    "        print(\"Contradiction was detetced. Rerun again sorry\")                                                   \n",
    "        return min_entropy_pos\n",
    "    \n",
    "    # Choose a pattern at lowest entropy position which is most frequent in the sample\n",
    "    possible_patterns = get_possible_patterns_at_position(min_entropy_pos,coefficients)\n",
    "    \n",
    "    # calculate max probability for patterns that are left\n",
    "    max_p = 0\n",
    "    for pattern in possible_patterns:\n",
    "        if max_p < probability[pattern]:\n",
    "            max_p == probability[pattern]\n",
    "    \n",
    "    \n",
    "    semi_random_pattern = random.choice([pat for pat in possible_patterns if probability[pat]>=max_p])\n",
    "    \n",
    "    # Set this pattern to be the only available at this position\n",
    "    coefficients[min_entropy_pos[0]][min_entropy_pos[1]] = semi_random_pattern\n",
    "    \n",
    "    return min_entropy_pos\n"
   ]
  },
  {
   "attachments": {},
   "cell_type": "markdown",
   "metadata": {},
   "source": [
    "After a pattern has been assigned to a tile, we need to check if all of patterns in adjacent tiles are still possible in their locations. So it’s time to propagate. For every change we do in our matrix, we add tile position into a stack. For every adjacent tile, if there is a change, we add it’s position. If there is no change in neigbourhood tiles, we take tiles from stack, check for changes and add changed tiles positions into a stack and so on…"
   ]
  },
  {
   "cell_type": "code",
   "execution_count": 173,
   "metadata": {},
   "outputs": [],
   "source": [
    "def propagate(min_entropy_pos):\n",
    "\n",
    "    '''\n",
    "    Update the coefficients of the neighbours\n",
    "    '''\n",
    "    stack = [min_entropy_pos]\n",
    "    \n",
    "    \n",
    "    while len(stack) > 0:\n",
    "        \n",
    "        pos = stack.pop()  #list.pop() removes the element at the specified position... default is -1\n",
    "        \n",
    "        #pos equals to the last element in the stack list and stack has one less member\n",
    "        possible_patterns = get_possible_patterns_at_position(pos,coefficients)\n",
    "        \n",
    "\n",
    "        # Iterate through each location immediately adjacent to the current location\n",
    "        for d in valid_dirs(pos,output_size):\n",
    "            adjacent_pos = (pos[0] + d[0], pos[1] + d[1])\n",
    "            possible_patterns_at_adjacent = get_possible_patterns_at_position(adjacent_pos,coefficients)\n",
    "            \n",
    "            # Iterate over all still available patterns in adjacent tile \n",
    "            # and check if pattern is still possible in this location\n",
    "            if not isinstance(possible_patterns_at_adjacent, list):\n",
    "                possible_patterns_at_adjacent = [possible_patterns_at_adjacent]\n",
    "            for possible_pattern_at_adjacent in possible_patterns_at_adjacent:\n",
    "                if len(possible_patterns) > 1:\n",
    "                    #any(iterable) function returns True if any item in the iterable are true otherwise False\n",
    "                    is_possible = any([index.check_possibility(pattern, possible_pattern_at_adjacent, d) for pattern in possible_patterns])\n",
    "                else:\n",
    "                    is_possible = index.check_possibility(possible_patterns, possible_pattern_at_adjacent, d)\n",
    "                    \n",
    "                '''\n",
    "                If the tile is not compatible with any of the tiles in the current location's wavefunction\n",
    "                then it's impossible for it to ever get choosen so it needs to be removed from the other\n",
    "                location's wavefunction\n",
    "                '''\n",
    "                if not is_possible:\n",
    "                    x, y = adjacent_pos\n",
    "                    coefficients[x][y] = [patt for patt in coefficients[x][y] if patt.pixels != possible_pattern_at_adjacent.pixels]\n",
    "                        \n",
    "                    if adjacent_pos not in stack:\n",
    "                        stack.append(adjacent_pos)"
   ]
  },
  {
   "attachments": {},
   "cell_type": "markdown",
   "metadata": {},
   "source": [
    "Fully collapse it completely as animation takes a while to run so not making it for this one"
   ]
  },
  {
   "cell_type": "code",
   "execution_count": 174,
   "metadata": {},
   "outputs": [],
   "source": [
    "while not is_fully_collapsed(coefficients):\n",
    "    min_entropy_pos = observe()\n",
    "    if min_entropy_pos == 0 :  #correspond to when contradiction was detected \n",
    "        break\n",
    "    propagate(min_entropy_pos)"
   ]
  },
  {
   "attachments": {},
   "cell_type": "markdown",
   "metadata": {},
   "source": [
    "## Post process"
   ]
  },
  {
   "attachments": {},
   "cell_type": "markdown",
   "metadata": {},
   "source": [
    "Write another function to read_output_array(N,colour,final_pixels)"
   ]
  },
  {
   "cell_type": "code",
   "execution_count": 175,
   "metadata": {},
   "outputs": [],
   "source": [
    "def read_output_array(M,colour,final_pixels):\n",
    "    \"\"\"\n",
    "    This function receives the patten size(NxN), the colour dictionary and the final_pixels\n",
    "    Return readable_output_array for plt.imshow()\n",
    "    \"\"\"\n",
    "    readable_output_array = np.zeros((M,M,3))  #initialise the desired array as shape (N,N.3)\n",
    "\n",
    "    for m in range(M):\n",
    "        for n in range(M):\n",
    "            key_mn = final_pixels[m][n]\n",
    "            for o in range(3):\n",
    "                readable_output_array[m][n][o] = colour[key_mn][o]\n",
    "            \n",
    "    return readable_output_array "
   ]
  },
  {
   "attachments": {},
   "cell_type": "markdown",
   "metadata": {},
   "source": [
    "After our algorithm finishes we can now extract distinct pixels from patterns. Each pattern has equal intersection with all of it’s adjacent patterns. If we get only first pixel from each pattern, we get unique part of each."
   ]
  },
  {
   "cell_type": "code",
   "execution_count": 176,
   "metadata": {},
   "outputs": [
    {
     "data": {
      "image/png": "[encoded data removed]",
      "text/plain": [
       "<Figure size 640x480 with 1 Axes>"
      ]
     },
     "metadata": {},
     "output_type": "display_data"
    }
   ],
   "source": [
    "final_pixels = post_collasping(coefficients)\n",
    "M = output_size[0]    \n",
    "plt.imshow(read_output_array(M,colour,final_pixels))\n",
    "plt.show()"
   ]
  },
  {
   "attachments": {},
   "cell_type": "markdown",
   "metadata": {},
   "source": [
    "For the case that wavefunctions collapse according to the probability distribution."
   ]
  },
  {
   "cell_type": "code",
   "execution_count": 177,
   "metadata": {},
   "outputs": [],
   "source": [
    "#initilize_wave_function\n",
    "\n",
    "coefficients = initialize_wave_function(output_size,patterns)  # will be updated to one pattern for each tile if the algorithn is fully complete "
   ]
  },
  {
   "cell_type": "code",
   "execution_count": 178,
   "metadata": {},
   "outputs": [],
   "source": [
    "def observe2():\n",
    "    \"\"\"\n",
    "   This function will be used to observe the position with minimum entropy\n",
    "    ,and collapse the wavefunction at the position to one state based on the frequency of pattern from the input image.\n",
    "    Tie will be chosen randomly by the random.choice() function. \n",
    "    It returns the position of the pixel with minimum entropy // convenient for passing the function as the argument of the Propagator() function\n",
    "    Unless the wavefunction is fully collapsed-> print(\"All tiles have 0 entropy\")  \n",
    "    or contradiction was observed --> print(\"Contradiction was detetced. Rerun again sorry\") \n",
    "    \"\"\"\n",
    "   \n",
    "    min_entropy_pos = get_min_entropy_pos()  # Find the position of the tile with lowest entropy\n",
    "    \n",
    "    if min_entropy_pos == None:             # min_entropy_pos == None satisfied when the wavefunction is fully collapsed.\n",
    "        print(\"All tiles have 0 entropy\")\n",
    "        return\n",
    "    \n",
    "    elif min_entropy_pos == 0:           # min_entropy_pos == 0 satisfied when a tile has no possible pattern (contradiction)\n",
    "        print(\"Contradiction was detetced. Rerun again sorry\")                                                   \n",
    "        return min_entropy_pos\n",
    "    \n",
    "    \n",
    "    # Initialise possible patterns list at lowest entropy position \n",
    "    possible_patterns = get_possible_patterns_at_position(min_entropy_pos,coefficients)\n",
    "    \n",
    "    # Collapse the wavefunction according to the probability distribution using np.random.choice(a : 1D array, p= :List)\n",
    "\n",
    "    prob_distribution_list = [probability[pattern] for pattern in possible_patterns]   # p argument\n",
    "    normalised_prob_dis = prob_distribution_list / np.sum(prob_distribution_list)   #Normailse the prob_dis so total prob = 1 \n",
    "    collapsing_index = np.random.choice(np.arange(len(possible_patterns)), p=normalised_prob_dis)\n",
    "    \n",
    "    # Set this pattern to be the only available at this position\n",
    "    coefficients[min_entropy_pos[0]][min_entropy_pos[1]] = possible_patterns[collapsing_index]\n",
    "    \n",
    "    return min_entropy_pos"
   ]
  },
  {
   "cell_type": "code",
   "execution_count": 179,
   "metadata": {},
   "outputs": [],
   "source": [
    "def propagate2(min_entropy_pos):\n",
    "\n",
    "    \"\"\"\n",
    "    Update the coefficients of the neighbours\n",
    "    \"\"\"\n",
    "    \n",
    "    stack = [min_entropy_pos]\n",
    "    \n",
    "    \n",
    "    while len(stack) > 0:\n",
    "        \n",
    "        pos = stack.pop()  #list.pop() removes the element at the specified position... default is -1\n",
    "        \n",
    "        #pos equals to the last element in the stack list and stack has one less member\n",
    "        possible_patterns = get_possible_patterns_at_position(pos,coefficients)\n",
    "        \n",
    "        # Iterate through each location immediately adjacent to the current location\n",
    "        for d in valid_dirs(pos,output_size):\n",
    "            adjacent_pos = (pos[0] + d[0], pos[1] + d[1])\n",
    "            possible_patterns_at_adjacent = get_possible_patterns_at_position(adjacent_pos,coefficients)\n",
    "            \n",
    "            # Iterate over all still available patterns in adjacent tile \n",
    "            # and check if pattern is still possible in this location\n",
    "            if not isinstance(possible_patterns_at_adjacent, list):\n",
    "                possible_patterns_at_adjacent = [possible_patterns_at_adjacent]\n",
    "            for possible_pattern_at_adjacent in possible_patterns_at_adjacent:\n",
    "                if len(possible_patterns) > 1:\n",
    "                    #any(iterable) function returns True if any item in the iterable are true otherwise False\n",
    "                    is_possible = any([index.check_possibility(pattern, possible_pattern_at_adjacent, d) for pattern in possible_patterns])\n",
    "                else:\n",
    "                    is_possible = index.check_possibility(possible_patterns, possible_pattern_at_adjacent, d)\n",
    "                    \n",
    "                \"\"\"\n",
    "                If the tile is not compatible with any of the tiles in the current location's wavefunction\n",
    "                then it's impossible for it to ever get choosen so it needs to be removed from the other\n",
    "                location's wavefunction\n",
    "                \"\"\"\n",
    "                if not is_possible:\n",
    "                    x, y = adjacent_pos\n",
    "                    coefficients[x][y] = [patt for patt in coefficients[x][y] if patt.pixels != possible_pattern_at_adjacent.pixels]\n",
    "                        \n",
    "                    if adjacent_pos not in stack:\n",
    "                        stack.append(adjacent_pos)"
   ]
  },
  {
   "cell_type": "code",
   "execution_count": 180,
   "metadata": {},
   "outputs": [
    {
     "data": {
      "image/png": "[encoded data removed]",
      "text/plain": [
       "<Figure size 640x480 with 1 Axes>"
      ]
     },
     "metadata": {},
     "output_type": "display_data"
    }
   ],
   "source": [
    "while not is_fully_collapsed(coefficients):\n",
    "    min_entropy_pos = observe2()\n",
    "    if min_entropy_pos == 0 :  #correspond to when contradiction was detected \n",
    "        break\n",
    "    propagate2(min_entropy_pos)\n",
    "\n",
    "\n",
    "\n",
    "final_pixels = post_collasping(coefficients)\n",
    "    \n",
    "plt.imshow(read_output_array(M,colour,final_pixels))\n",
    "plt.show()\n",
    "\n",
    "#comment perhaps get rid off the rotational symmetries? "
   ]
  }
 ],
 "metadata": {
  "kernelspec": {
   "display_name": "Python 3",
   "language": "python",
   "name": "python3"
  },
  "language_info": {
   "codemirror_mode": {
    "name": "ipython",
    "version": 3
   },
   "file_extension": ".py",
   "mimetype": "text/x-python",
   "name": "python",
   "nbconvert_exporter": "python",
   "pygments_lexer": "ipython3",
   "version": "3.9.1"
  }
 },
 "nbformat": 4,
 "nbformat_minor": 4
}
